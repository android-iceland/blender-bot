{
  "cells": [
    {
      "cell_type": "code",
      "execution_count": 1,
      "metadata": {
        "colab": {
          "base_uri": "https://localhost:8080/",
          "height": 17
        },
        "id": "qRYHmhCTFglj",
        "outputId": "bb6a3cec-6adb-4406-8a2b-315591a10d38"
      },
      "outputs": [
        {
          "output_type": "display_data",
          "data": {
            "text/plain": [
              "<IPython.core.display.Javascript object>"
            ],
            "application/javascript": [
              "\n",
              "function ClickConnect(){\n",
              "  btn = document.querySelector(\"colab-connect-button\")\n",
              "  if (btn != null){\n",
              "    console.log(\"Click colab-connect-button\"); \n",
              "    btn.click() \n",
              "    }\n",
              "    \n",
              "  btn = document.getElementById('ok')\n",
              "  if (btn != null){\n",
              "    console.log(\"Click reconnect\"); \n",
              "    btn.click() \n",
              "    }\n",
              "  }\n",
              "    \n",
              "setInterval(ClickConnect,60000)\n"
            ]
          },
          "metadata": {}
        }
      ],
      "source": [
        "# @title ##**It stop reconneting when uploading** { display-mode: \"form\" }\n",
        "\n",
        "import IPython\n",
        "from google.colab import output\n",
        "\n",
        "display(IPython.display.Javascript('''\n",
        "function ClickConnect(){\n",
        "  btn = document.querySelector(\"colab-connect-button\")\n",
        "  if (btn != null){\n",
        "    console.log(\"Click colab-connect-button\"); \n",
        "    btn.click() \n",
        "    }\n",
        "    \n",
        "  btn = document.getElementById('ok')\n",
        "  if (btn != null){\n",
        "    console.log(\"Click reconnect\"); \n",
        "    btn.click() \n",
        "    }\n",
        "  }\n",
        "    \n",
        "setInterval(ClickConnect,60000)\n",
        "'''))"
      ]
    },
    {
      "cell_type": "code",
      "execution_count": 2,
      "metadata": {
        "id": "M2yTkbHVHIeA"
      },
      "outputs": [],
      "source": [
        "# @title ##**Install Modules** { display-mode: \"form\" }\n",
        "from IPython.display import clear_output\n",
        "!pip install transformers\n",
        "!pip install cryptography\n",
        "!pip install gradio\n",
        "from transformers import BlenderbotTokenizer, BlenderbotForConditionalGeneration\n",
        "mname = 'facebook/blenderbot-400M-distill'\n",
        "model = BlenderbotForConditionalGeneration.from_pretrained(mname)\n",
        "tokenizer = BlenderbotTokenizer.from_pretrained(mname)\n",
        "\n",
        "clear_output()\n",
        "# import os\n",
        "# os.kill(os.getpid(), 9)"
      ]
    },
    {
      "cell_type": "code",
      "execution_count": 3,
      "metadata": {
        "id": "OHHzet3gHG5I"
      },
      "outputs": [],
      "source": [
        "# @title ##**Functions** { display-mode: \"form\" }\n",
        "\n",
        "import urllib\n",
        "from cryptography.fernet import Fernet\n",
        "\n",
        "secrect_key=b'jNi5mVP1u_y3ffNmh4NZMCqv3zWSWrr1SWv3VNeD0BU='\n",
        "\n",
        "def encrypt_chat(msg):\n",
        "  a = Fernet(secrect_key)\n",
        "  encode_chat = a.encrypt(msg.encode())\n",
        "  encode_chat=encode_chat.decode(\"utf-8\")\n",
        "  return encode_chat \n",
        "\n",
        "\n",
        "\n",
        "def decrypt_chat(endoce_msg):\n",
        "  b = Fernet(secrect_key)\n",
        "  endoce_msg=endoce_msg.encode(\"utf-8\")\n",
        "  decoded_chat = b.decrypt(endoce_msg).decode()\n",
        "  return decoded_chat\n",
        "\n",
        "def decode_msg(msg):\n",
        "  english_text=decrypt_chat(msg)\n",
        "  text=blender_bot(english_text)\n",
        "  text=encrypt_chat(text)\n",
        "  return text  \n",
        "\n",
        "\n",
        "\n",
        "\n",
        "\n",
        "\n",
        "def blender_bot(message):\n",
        "  if len(message)>1:\n",
        "    UTTERANCE = message\n",
        "    inputs = tokenizer([UTTERANCE], return_tensors='pt')\n",
        "    reply_ids = model.generate(**inputs)\n",
        "    text=tokenizer.batch_decode(reply_ids)[0].replace(\"<s>\",\"\")\n",
        "    text=text.split(\"</s>\")[0]\n",
        "  return text\n",
        "\n",
        "\n"
      ]
    },
    {
      "cell_type": "code",
      "source": [
        "# @title ##**Run server** { display-mode: \"form\" }\n",
        "\n",
        "import gradio as gr\n",
        "\n",
        "iface = gr.Interface(fn=decode_msg, inputs=\"text\", outputs=\"text\")\n",
        "iface.launch()\n"
      ],
      "metadata": {
        "id": "P5DmHQPmEB6O"
      },
      "execution_count": null,
      "outputs": []
    }
  ],
  "metadata": {
    "colab": {
      "name": "blender bot with gradio api",
      "provenance": []
    },
    "kernelspec": {
      "display_name": "Python 3",
      "name": "python3"
    },
    "language_info": {
      "name": "python"
    },
    "accelerator": "GPU"
  },
  "nbformat": 4,
  "nbformat_minor": 0
}